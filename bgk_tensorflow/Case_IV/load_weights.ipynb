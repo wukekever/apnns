{
 "cells": [
  {
   "cell_type": "code",
   "execution_count": null,
   "metadata": {},
   "outputs": [],
   "source": [
    "import os \n",
    "import tensorflow as tf\n",
    "os.environ['CUDA_VISIBLE_DEVICES'] = '3'\n",
    "os.environ['TF_CPP_MIN_LOG_LEVEL'] = '2' # ignore INFO\\WARNING\n",
    "\n",
    "import numpy as np\n",
    "\n",
    "from make_dir import mkdir\n",
    "\n",
    "from tensorflow.keras import layers, Sequential\n",
    "\n",
    "from load_yaml import get_yaml\n",
    "\n",
    "import models.solutions as solutions\n",
    "import equations.bgk_eqn as equation\n",
    "\n",
    "from dataset import Sampler\n",
    "from solver import Solver\n",
    "\n",
    "from math import pi\n",
    "pi = tf.cast(pi, dtype = float)\n",
    "\n",
    "import matplotlib.pyplot as plt\n",
    "import time\n"
   ]
  },
  {
   "cell_type": "code",
   "execution_count": null,
   "metadata": {},
   "outputs": [],
   "source": [
    "print(\"TensorFlow version: {}\".format(tf.__version__))\n",
    "print(\"Eager exacution: {}\".format(tf.executing_eagerly()))\n",
    "# set gpu\n",
    "gpus = tf.config.list_physical_devices('GPU')\n",
    "logical_gpus = tf.config.experimental.list_logical_devices(device_type = 'GPU')\n",
    "print(len(gpus), \"Physical GPUs,\", len(logical_gpus), \"Logical GPU\")\n"
   ]
  },
  {
   "cell_type": "code",
   "execution_count": null,
   "metadata": {},
   "outputs": [],
   "source": [
    "# load config\n",
    "current_path = os.path.abspath(\".\")\n",
    "yaml_path = os.path.join(current_path, \"kinetic.yaml\")\n",
    "Config = get_yaml(yaml_path)\n",
    "\n",
    "# load reference data\n",
    "ref_path = os.path.join(current_path, \"data/dirichlet_ref_kn1e0.npz\")\n",
    "ref = np.load(ref_path)\n",
    "time_freq = 1\n",
    "ref_rho = ref[\"density\"][::time_freq].astype(\"float32\").reshape(-1, 1) # shape: (100, 1)\n",
    "ref_momentum = ref[\"momentum\"][::time_freq].astype(\"float32\").reshape(-1, 1)\n",
    "ref_energy = ref[\"energy\"][::time_freq].astype(\"float32\").reshape(-1, 1)\n"
   ]
  },
  {
   "cell_type": "code",
   "execution_count": null,
   "metadata": {},
   "outputs": [],
   "source": [
    "# build neural networks for f, rho, u, T\n",
    "Sol = \"solutions.Sol_\" + \\\n",
    "    \"{}\".format(Config[\"model_config\"][\"neural_network_type\"])\n",
    "Solution = eval(Sol)\n",
    "\n",
    "bgk_sol = Solution(units_f=Config[\"model_config\"][\"units_f\"],\n",
    "                units_rho=Config[\"model_config\"][\"units_rho\"],\n",
    "                units_u=Config[\"model_config\"][\"units_u\"],\n",
    "                units_T=Config[\"model_config\"][\"units_T\"],\n",
    "                activation=tf.nn.swish,\n",
    "                kernel_initializer=\"glorot_normal\",\n",
    "                name=\"bgk_sol\")\n",
    "bgk_sol.build()\n",
    "\n",
    "# define the BGK equation\n",
    "bgk_eqn = equation.BGK(Config, bgk_sol, name=\"BGK_Eqn\")\n"
   ]
  },
  {
   "cell_type": "code",
   "execution_count": null,
   "id": "9ed69392",
   "metadata": {},
   "outputs": [],
   "source": [
    "instance_t, instance_x, instance_v = tf.split(tf.ones((1, 3)), num_or_size_splits=[1,1,1], axis=-1)\n",
    "instance_rho, instance_u, instance_T = bgk_sol.macrocall(inputs = tf.concat([instance_t, instance_x], axis=-1))\n",
    "instance_f = bgk_sol.fcall(inputs = tf.concat([instance_t, instance_x, instance_v], axis=-1))"
   ]
  },
  {
   "cell_type": "code",
   "execution_count": null,
   "id": "3b20f238",
   "metadata": {},
   "outputs": [],
   "source": [
    "weights = np.load(\"./record/saved_weights.npz\", allow_pickle=True)[\"model_weights\"]\n",
    "bgk_sol.set_weights(weights)\n"
   ]
  },
  {
   "cell_type": "code",
   "execution_count": null,
   "id": "f088aaac",
   "metadata": {},
   "outputs": [],
   "source": [
    "xmin = Config[\"dataset_config\"][\"x_range\"][0]\n",
    "xmax = Config[\"dataset_config\"][\"x_range\"][1]\n",
    "tmin = Config[\"dataset_config\"][\"t_range\"][0]\n",
    "tmax = Config[\"dataset_config\"][\"t_range\"][1]\n",
    "\n",
    "nx = 100\n",
    "dx = float(xmax - xmin) / nx\n",
    "ref_x = np.arange(xmin + dx / 2, xmax + dx / 2, dx).reshape((-1, 1))\n",
    "ref_x = tf.convert_to_tensor(ref_x, dtype=tf.float32)\n"
   ]
  },
  {
   "cell_type": "code",
   "execution_count": null,
   "id": "a8565ad5",
   "metadata": {},
   "outputs": [],
   "source": [
    "def plot_macro(initial=False):\n",
    "    # initial\n",
    "    def macro0(macro_l, macro_r, x):\n",
    "        # y = tf.pow(tf.sin(pi*x*tf.sign(x)), 3 / 7) * tf.sign(x)\n",
    "        # return macro_l + (macro_r - macro_l) * ((1.0 + y) / 2.0)\n",
    "        # return macro_l + (macro_r - macro_l) * 0.5 * (tf.tanh(10.0*x) + 1.0)\n",
    "        return macro_l + (macro_r - macro_l) * 0.5 * (tf.tanh(20.0*x) + 1.0)\n",
    "            \n",
    "    if initial:\n",
    "        # t = 0\n",
    "        ref_rho = macro0(1.5, 0.625, ref_x)\n",
    "        ref_u = macro0(0.0, 0.0, ref_x)\n",
    "        ref_T = macro0(1.5, 0.75, ref_x)\n",
    "        ref_energy = 0.5 * ref_rho * (ref_u**2 + ref_T)\n",
    "        ref_momentum = ref_rho * ref_u\n",
    "        ref_t = np.zeros((nx, 1)) \n",
    "    else:\n",
    "        # t = 0.1\n",
    "        time_freq = 1\n",
    "        ref_rho = ref[\"density\"][::time_freq].astype(\"float32\").reshape(-1, 1) # shape: (100, 1)\n",
    "        ref_momentum = ref[\"momentum\"][::time_freq].astype(\"float32\").reshape(-1, 1)\n",
    "        ref_energy = ref[\"energy\"][::time_freq].astype(\"float32\").reshape(-1, 1)\n",
    "        ref_t = tmax * np.ones((nx, 1)) \n",
    "    \n",
    "    ref_t = tf.convert_to_tensor(ref_t, dtype=tf.float32)\n",
    "\n",
    "    rho_approx, u_approx, T_approx = bgk_sol.macrocall(inputs = tf.concat([ref_t, ref_x], axis=-1))\n",
    "    approx_density = rho_approx\n",
    "    approx_momentum = rho_approx * u_approx\n",
    "    approx_energy = 0.5 * rho_approx * (u_approx**2 + T_approx)\n",
    "\n",
    "    plt.plot(ref_x, ref_rho, \"r\", label = \"density\")\n",
    "    plt.plot(ref_x, ref_momentum, \"k\", label = \"momentum\")\n",
    "    plt.plot(ref_x, ref_energy, \"b\", label = \"energy\")\n",
    "\n",
    "    plt.plot(ref_x, approx_density, \"r*\", markevery= 4, label = \"approx density\")\n",
    "    plt.plot(ref_x, approx_momentum, \"k+\", markevery= 4, label = \"approx momentum\")\n",
    "    plt.plot(ref_x, approx_energy, \"bx\", markevery= 4, label = \"approx energy\")\n",
    "\n",
    "    plt.grid()\n",
    "    plt.legend()\n",
    "    plt.xlabel(\"x\")\n",
    "    plt.ylabel(\"macro\") # Todo\n",
    "    plt.title(\"Approximate density, momentum, energy and reference solutions\")\n",
    "    # plt.savefig(\"./figure/solution_macro_t5.pdf\")\n",
    "    plt.show()\n",
    "    plt.close()"
   ]
  },
  {
   "cell_type": "code",
   "execution_count": null,
   "id": "d2551118",
   "metadata": {},
   "outputs": [],
   "source": [
    "plot_macro(initial=False)\n",
    "plot_macro(initial=True)"
   ]
  },
  {
   "cell_type": "code",
   "execution_count": null,
   "id": "cc4f09ad",
   "metadata": {},
   "outputs": [],
   "source": [
    "v, w = np.polynomial.legendre.leggauss(32)\n",
    "v = 0.5 * (v + 1.0) * 20 - 10\n",
    "w = 0.5 * 20 * w\n",
    "vquads = tf.convert_to_tensor(v[:, None], dtype=tf.float32)\n",
    "wquads = tf.convert_to_tensor(w[:, None], dtype=tf.float32)"
   ]
  },
  {
   "cell_type": "code",
   "execution_count": null,
   "id": "4ec6ae3e",
   "metadata": {},
   "outputs": [],
   "source": [
    "def plot_moments(initial=False):\n",
    "    # compute moments\n",
    "    def average_op(func, x, vwquads):\n",
    "        x = tf.expand_dims(tf.concat(x, axis=-1), axis=-2)\n",
    "        v, w = vwquads\n",
    "        xv = tf.concat([x + 0.0 * v[..., 0:1], v + 0.0 * x[..., 0:1]], axis=-1)\n",
    "        avg = tf.reduce_sum(func(xv) * w, axis=-2)\n",
    "        return avg\n",
    "\n",
    "    # initial\n",
    "    def macro0(macro_l, macro_r, x):\n",
    "        # y = tf.pow(tf.sin(pi*x*tf.sign(x)), 3 / 7) * tf.sign(x)\n",
    "        # return macro_l + (macro_r - macro_l) * ((1.0 + y) / 2.0)\n",
    "        # return macro_l + (macro_r - macro_l) * 0.5 * (tf.tanh(10.0*x) + 1.0)\n",
    "        return macro_l + (macro_r - macro_l) * 0.5 * (tf.tanh(20.0*x) + 1.0)\n",
    "\n",
    "    if initial:\n",
    "        # t = 0\n",
    "        ref_rho = macro0(1.5, 0.625, ref_x)\n",
    "        ref_u = macro0(0.0, 0.0, ref_x)\n",
    "        ref_T = macro0(1.5, 0.75, ref_x)\n",
    "        ref_energy = 0.5 * ref_rho * (ref_u**2 + ref_T)\n",
    "        ref_momentum = ref_rho * ref_u\n",
    "        ref_t = np.zeros((nx, 1)) \n",
    "    else:\n",
    "        # t = 0.1\n",
    "        time_freq = 1\n",
    "        ref_rho = ref[\"density\"][::time_freq].astype(\"float32\").reshape(-1, 1) # shape: (100, 1)\n",
    "        ref_momentum = ref[\"momentum\"][::time_freq].astype(\"float32\").reshape(-1, 1)\n",
    "        ref_energy = ref[\"energy\"][::time_freq].astype(\"float32\").reshape(-1, 1)\n",
    "        ref_t = tmax * np.ones((nx, 1))  \n",
    "\n",
    "    ref_t = tf.convert_to_tensor(ref_t, dtype=tf.float32)\n",
    "\n",
    "    avg_f_1 = average_op(bgk_sol.fcall, [ref_t, ref_x], [vquads, wquads])\n",
    "    approx_density = avg_f_1\n",
    "    avg_f_2 = average_op(bgk_sol.fcall, [ref_t, ref_x], [vquads, wquads * vquads])\n",
    "    approx_momentum = avg_f_2\n",
    "    avg_f_3 = average_op(bgk_sol.fcall, [ref_t, ref_x], [vquads, wquads * vquads ** 2])\n",
    "    approx_energy = 0.5 * avg_f_3\n",
    "\n",
    "    plt.plot(ref_x, ref_rho, \"r\", label = \"density\")\n",
    "    plt.plot(ref_x, ref_momentum, \"k\", label = \"momentum\")\n",
    "    plt.plot(ref_x, ref_energy, \"b\", label = \"energy\")\n",
    "\n",
    "    plt.plot(ref_x, approx_density, \"r*\", markevery= 4, label = r\"$<f>$\")\n",
    "    plt.plot(ref_x, approx_momentum, \"k+\", markevery= 4, label = r\"$<fv>$\")\n",
    "    plt.plot(ref_x, approx_energy, \"bx\", markevery= 4, label = r\"$\\frac{1}{2} <fv^2>$\")\n",
    "    plt.grid()\n",
    "    plt.legend()\n",
    "    plt.xlabel(\"x\")\n",
    "    plt.ylabel(\"macro\") # Todo\n",
    "    plt.title(\"Approximate integrals of f and reference solutions\")\n",
    "#     plt.savefig(\"./figure/solution_f_t1.pdf\")\n",
    "    plt.show()\n",
    "    plt.close()\n",
    "    "
   ]
  },
  {
   "cell_type": "code",
   "execution_count": null,
   "id": "6c7667e7",
   "metadata": {},
   "outputs": [],
   "source": [
    "plot_moments(initial=False)\n",
    "plot_moments(initial=True)"
   ]
  },
  {
   "cell_type": "code",
   "execution_count": null,
   "metadata": {},
   "outputs": [],
   "source": []
  },
  {
   "cell_type": "code",
   "execution_count": null,
   "metadata": {},
   "outputs": [],
   "source": []
  }
 ],
 "metadata": {
  "kernelspec": {
   "display_name": "Python 3.8.8 ('tensorflow')",
   "language": "python",
   "name": "python3"
  },
  "language_info": {
   "codemirror_mode": {
    "name": "ipython",
    "version": 3
   },
   "file_extension": ".py",
   "mimetype": "text/x-python",
   "name": "python",
   "nbconvert_exporter": "python",
   "pygments_lexer": "ipython3",
   "version": "3.8.8"
  },
  "vscode": {
   "interpreter": {
    "hash": "b4a0eba2f6ab40d002121c2ffae10e0fc12558efa8e53da71064d5fe91db1100"
   }
  }
 },
 "nbformat": 4,
 "nbformat_minor": 5
}
