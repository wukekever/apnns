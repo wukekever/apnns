{
 "cells": [
  {
   "cell_type": "code",
   "execution_count": null,
   "metadata": {},
   "outputs": [],
   "source": [
    "import matplotlib.pyplot as plt\n",
    "import numpy as np\n"
   ]
  },
  {
   "cell_type": "code",
   "execution_count": null,
   "metadata": {},
   "outputs": [],
   "source": [
    "result = np.load(\"./record/result.npz\")\n"
   ]
  },
  {
   "cell_type": "code",
   "execution_count": null,
   "metadata": {},
   "outputs": [],
   "source": [
    "err_rho = result[\"error_rho\"]\n",
    "err_momentum = result[\"error_momentum\"]\n",
    "err_energy = result[\"error_energy\"]\n",
    "\n",
    "it = np.arange(len(err_rho)) + 1"
   ]
  },
  {
   "cell_type": "code",
   "execution_count": null,
   "metadata": {},
   "outputs": [],
   "source": [
    "\n",
    "plt.plot(it, err_rho, \"r\", markevery=400, label=\"density\")\n",
    "plt.plot(it, err_momentum, \"kx\", markevery=400, label=\"momentum\")\n",
    "plt.plot(it, err_energy, \"g+\", markevery=400, label=\"energy\")\n",
    "plt.plot(it, err_momentum, \"k\", linewidth=0.20)\n",
    "plt.plot(it, err_energy, \"g\", linewidth=0.20)\n",
    "\n",
    "plt.grid()\n",
    "plt.legend()\n",
    "plt.xlabel(\"iterations\")\n",
    "plt.ylabel(\"error\")\n",
    "plt.title(\"Error for density, momentum, energy\")\n",
    "plt.savefig(\"./figure/error_change.pdf\")\n",
    "plt.show()\n",
    "plt.close()\n"
   ]
  },
  {
   "cell_type": "code",
   "execution_count": null,
   "metadata": {},
   "outputs": [],
   "source": [
    "# plt.loglog(it, err_rho, \"r\", markevery=50, label=\"density\")\n",
    "# plt.loglog(it, err_momentum, \"kx\", markevery=50, label=\"momentum\")\n",
    "# plt.loglog(it, err_energy, \"g+\", markevery=50, label=\"energy\")\n",
    "# plt.loglog(it, err_momentum, \"k\", linewidth=0.20)\n",
    "# plt.loglog(it, err_energy, \"g\", linewidth=0.20)\n",
    "\n",
    "# plt.grid()\n",
    "# plt.legend()\n",
    "# plt.xlabel(\"iterations\")\n",
    "# plt.ylabel(\"error\")\n",
    "# plt.title(\"Error for density, momentum, energy\")\n",
    "# plt.savefig(\"./figure/error_change.pdf\")\n",
    "# plt.show()\n",
    "# plt.close()"
   ]
  },
  {
   "cell_type": "code",
   "execution_count": null,
   "metadata": {},
   "outputs": [],
   "source": []
  }
 ],
 "metadata": {
  "kernelspec": {
   "display_name": "Python 3.9.7 64-bit",
   "language": "python",
   "name": "python3"
  },
  "language_info": {
   "codemirror_mode": {
    "name": "ipython",
    "version": 3
   },
   "file_extension": ".py",
   "mimetype": "text/x-python",
   "name": "python",
   "nbconvert_exporter": "python",
   "pygments_lexer": "ipython3",
   "version": "3.9.7"
  },
  "orig_nbformat": 4,
  "vscode": {
   "interpreter": {
    "hash": "8bec707d9f3bb0498ec2cff7362219df99e783c9fb19576ab74a49b175d2369b"
   }
  }
 },
 "nbformat": 4,
 "nbformat_minor": 2
}
