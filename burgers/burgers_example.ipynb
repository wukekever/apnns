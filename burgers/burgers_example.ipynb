{
 "cells": [
  {
   "cell_type": "code",
   "execution_count": null,
   "metadata": {},
   "outputs": [],
   "source": [
    "import os \n",
    "import numpy as np\n",
    "\n",
    "import torch\n",
    "import torch.nn as nn\n",
    "import torch.optim as optim\n",
    "from torch.optim import lr_scheduler\n",
    "\n",
    "import sys\n",
    "sys.path.append(\"..\")\n",
    "\n",
    "from make_dir import mkdir\n",
    "from load_yaml import get_yaml\n",
    "\n",
    "import models.burgers_net as solutions\n",
    "import equations.burgers_eqn as equation\n",
    "\n",
    "from burgers_dataset import Sampler\n",
    "import burgers_solver as solver \n",
    "\n",
    "from math import pi\n",
    "\n",
    "import matplotlib.pyplot as plt\n",
    "import time\n"
   ]
  },
  {
   "cell_type": "code",
   "execution_count": null,
   "metadata": {},
   "outputs": [],
   "source": [
    "# load config\n",
    "current_path = os.path.abspath(\".\")\n",
    "yaml_path = os.path.join(current_path, \"burgers.yaml\")\n",
    "Config = get_yaml(yaml_path)\n",
    "\n",
    "# load reference data\n",
    "absolute_path = os.path.abspath(\"..\")\n",
    "ref_path = os.path.join(absolute_path, \"data/burgers.npz\")\n",
    "ref = np.load(ref_path)\n",
    "freq = 1\n",
    "ref_u = ref[\"density\"][::freq].astype(\"float32\").reshape(-1, 1) # shape: (256, 1)\n"
   ]
  },
  {
   "cell_type": "code",
   "execution_count": null,
   "metadata": {},
   "outputs": [],
   "source": [
    "time_dimension = Config[\"physical_config\"][\"time_dimension\"]\n",
    "space_dimension = Config[\"physical_config\"][\"space_dimension\"]\n",
    "d_in = time_dimension + space_dimension\n",
    "layers_u = Config[\"model_config\"][\"units_u\"]\n",
    "\n",
    "# build neural networks for u\n",
    "Model_u = \"solutions.Model_\" + \\\n",
    "    \"{}\".format(Config[\"model_config\"][\"neural_network_type\"])\n",
    "Model_u = eval(Model_u)\n",
    "\n",
    "model_u = Model_u(input_size = d_in, layers = layers_u, output_size = 1)\n",
    "\n",
    "device_ids = Config[\"model_config\"][\"device_ids\"]\n",
    "device = torch.device(\"cuda:{:d}\".format(device_ids[0]) if torch.cuda.is_available() else \"cpu\")\n",
    "\n",
    "if torch.cuda.device_count() > 1:    \n",
    "    model_u = nn.DataParallel(model_u, device_ids = device_ids)\n",
    "    \n",
    "model_u.to(device)\n",
    "\n"
   ]
  },
  {
   "cell_type": "code",
   "execution_count": null,
   "metadata": {},
   "outputs": [],
   "source": [
    "# number of paramerters\n",
    "param_num = sum(neural.numel() for neural in model_u.parameters())\n",
    "print(\"Number of paramerters for networks u is: {:6d}. \".format(param_num))\n"
   ]
  },
  {
   "cell_type": "code",
   "execution_count": null,
   "metadata": {},
   "outputs": [],
   "source": [
    "solutions.Xavier_initi(model_u)\n"
   ]
  },
  {
   "cell_type": "code",
   "execution_count": null,
   "metadata": {},
   "outputs": [],
   "source": [
    "# make plot\n",
    "def plot(iter):\n",
    "    xmin = Config[\"physical_config\"][\"x_range\"][0]\n",
    "    xmax = Config[\"physical_config\"][\"x_range\"][1]\n",
    "    tmax = Config[\"physical_config\"][\"t_range\"][1]\n",
    "\n",
    "    nx = 256\n",
    "    ref_x = torch.linspace(xmin, xmax, nx).reshape(-1, 1) \n",
    "    ref_t = tmax * torch.ones((nx, 1))  \n",
    "\n",
    "    model_u = Sol\n",
    "    u_approx = model_u(torch.Tensor(torch.cat([ref_t, ref_x], axis=-1)).to(device)).cpu().detach().numpy()\n",
    "\n",
    "    plt.plot(ref_x, ref_u, \"r\", label = \"density\")\n",
    "    plt.plot(ref_x, u_approx, \"r*\", markevery= 4, label = \"approx density\")\n",
    "    plt.grid()\n",
    "    plt.legend()\n",
    "    plt.xlabel(\"x\")\n",
    "    plt.ylabel(\"u\")\n",
    "    plt.title(\"Approximate density and reference solution\")\n",
    "    plt.savefig(\"./figure/solution_iter_{:d}.pdf\".format(iter))\n",
    "    # plt.show()\n",
    "    plt.close()"
   ]
  },
  {
   "cell_type": "code",
   "execution_count": null,
   "metadata": {},
   "outputs": [],
   "source": [
    "# Set optimizer and learning rate decay\n",
    "optimizer = optim.Adam([\n",
    "    {'params': model_u.parameters()},\n",
    "],  lr=Config[\"model_config\"][\"lr\"])\n",
    "\n",
    "scheduler = lr_scheduler.StepLR(\n",
    "    optimizer, Config[\"model_config\"][\"stage_num\"], Config[\"model_config\"][\"decay_rate\"])\n"
   ]
  },
  {
   "cell_type": "code",
   "execution_count": null,
   "metadata": {},
   "outputs": [],
   "source": [
    "Sol = model_u\n",
    "bgk_eqn = equation.Burgers(config = Config, sol = Sol)\n",
    "\n",
    "Iter = Config[\"model_config\"][\"iterations\"] \n",
    "regularizers = Config[\"model_config\"][\"regularizers\"]\n",
    "\n",
    "loss_record, error_record = np.array([[]]).T, np.array([[]]*1).T\n",
    "\n",
    "mkdir(file_dir = \"./model_saved\")\n",
    "mkdir(file_dir = \"./record\")\n",
    "mkdir(file_dir = \"./figure\")\n",
    "\n",
    "time_start = time.time()\n",
    "print('Begin training.')\n",
    "print('')\n",
    "for it in range(Iter):\n",
    "    \n",
    "    sampler = Sampler(Config)\n",
    "    trainloader = [sampler.interior(), sampler.boundary(), sampler.initial()]\n",
    "        \n",
    "    risk, error = solver.train_step(sol = Sol,\n",
    "                                    trainloader = trainloader, \n",
    "                                    equation = bgk_eqn,  \n",
    "                                    regularizers = regularizers,\n",
    "                                    optimizer = optimizer, \n",
    "                                    scheduler = scheduler,\n",
    "                                    ref = ref)\n",
    "    \n",
    "    loss = risk[\"total_loss\"]\n",
    "    res_burgers_eqn = risk[\"burgers\"]\n",
    "    res_bc_u = risk[\"bc_u\"]\n",
    "    res_ic_u = risk[\"ic_u\"]\n",
    "    error = error[\"error\"] \n",
    "\n",
    "    error = np.array(error, dtype=float).reshape(1, -1)\n",
    "    loss_record = np.concatenate((loss_record, loss*np.ones((1, 1))), axis=0)\n",
    "    error_record = np.concatenate((error_record, error), axis=0)\n",
    "\n",
    "    lr = optimizer.state_dict()['param_groups'][0]['lr']\n",
    "    \n",
    "    if it % 100 == 0:\n",
    "    \n",
    "        print(\"[Iter: {:6d}/{:6d} - lr: {:.2e} and Loss: {:.2e}]\".format(it + 1, Iter, lr, loss))\n",
    "        print(\"[Error for density: {:.2e}]\".format(float(error[:, 0])))\n",
    "        print(\"[Burgers eqn: {:.2e}, Boundary - u: {:.2e}, Initial - u: {:.2e}]\".format(res_burgers_eqn, res_bc_u, res_ic_u))\n",
    "        \n",
    "    if (it + 1) % 100 == 0:\n",
    "        plot(iter = it + 1) \n",
    "        \n",
    "    if np.max(error) < 1e-2:\n",
    "        print(\"Iteration step: \", it)\n",
    "        break\n",
    "\n",
    "np.savez(\"./record/result.npz\",\n",
    "         loss=loss_record,\n",
    "         error=error_record[:, 0])\n",
    "\n",
    "solutions.save_param(model_u, path = './model_saved/model_u_params.pkl')\n",
    "\n",
    "print(\"\")\n",
    "print(\"Finished training.\")\n",
    "time_end = time.time()\n",
    "print(\"Total time is: {:.2e}\".format(time_end - time_start), \"seconds\")\n"
   ]
  },
  {
   "cell_type": "code",
   "execution_count": null,
   "metadata": {},
   "outputs": [],
   "source": [
    "# # load model\n",
    "solutions.load_param(model_u, './model_saved/model_u_params.pkl')\n",
    "\n",
    "Sol = model_u"
   ]
  },
  {
   "cell_type": "code",
   "execution_count": null,
   "metadata": {},
   "outputs": [],
   "source": [
    "xmin = Config[\"physical_config\"][\"x_range\"][0]\n",
    "xmax = Config[\"physical_config\"][\"x_range\"][1]\n",
    "tmax = Config[\"physical_config\"][\"t_range\"][1]\n",
    "nx = 256\n",
    "ref_x = torch.linspace(xmin, xmax, nx).reshape(-1, 1) \n",
    "ref_t = tmax * torch.ones((nx, 1))"
   ]
  },
  {
   "cell_type": "code",
   "execution_count": null,
   "metadata": {},
   "outputs": [],
   "source": [
    "model_u = Sol\n",
    "u_approx = model_u(torch.Tensor(torch.cat([ref_t, ref_x], axis=-1)).to(device)).cpu().detach().numpy()\n",
    "\n",
    "plt.plot(ref_x, ref_u, \"r\", label=\"density\")\n",
    "plt.plot(ref_x, u_approx, \"r*\", markevery=4, label=\"approx density\")\n",
    "plt.grid()\n",
    "plt.legend()\n",
    "plt.xlabel(\"x\")\n",
    "plt.ylabel(\"macro\")\n",
    "plt.title(\"Approximate density and reference solution\")\n",
    "plt.savefig(\"./figure/solution.pdf\")\n",
    "plt.show()\n",
    "plt.close()\n"
   ]
  },
  {
   "cell_type": "code",
   "execution_count": null,
   "metadata": {},
   "outputs": [],
   "source": [
    "# # jupyter notebook to python\n",
    "# try:   \n",
    "#     !jupyter nbconvert --to python example.ipynb\n",
    "# except:\n",
    "#     pass"
   ]
  },
  {
   "cell_type": "code",
   "execution_count": null,
   "metadata": {},
   "outputs": [],
   "source": []
  },
  {
   "cell_type": "code",
   "execution_count": null,
   "metadata": {},
   "outputs": [],
   "source": []
  },
  {
   "cell_type": "code",
   "execution_count": null,
   "metadata": {},
   "outputs": [],
   "source": []
  },
  {
   "cell_type": "code",
   "execution_count": null,
   "metadata": {},
   "outputs": [],
   "source": []
  }
 ],
 "metadata": {
  "kernelspec": {
   "display_name": "Python 3.8.0 ('pytorch')",
   "language": "python",
   "name": "python3"
  },
  "language_info": {
   "codemirror_mode": {
    "name": "ipython",
    "version": 3
   },
   "file_extension": ".py",
   "mimetype": "text/x-python",
   "name": "python",
   "nbconvert_exporter": "python",
   "pygments_lexer": "ipython3",
   "version": "3.8.0"
  },
  "vscode": {
   "interpreter": {
    "hash": "b2883023b7651cb32604f918e2ac667f11b21b4a946c1f00e94d9e45b943bca6"
   }
  }
 },
 "nbformat": 4,
 "nbformat_minor": 5
}
